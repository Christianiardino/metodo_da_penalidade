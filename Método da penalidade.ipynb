{
 "cells": [
  {
   "cell_type": "code",
   "execution_count": 1,
   "id": "d2aa5ea7",
   "metadata": {},
   "outputs": [],
   "source": [
    "import matplotlib.pyplot as plt\n",
    "from mpl_toolkits import mplot3d \n",
    "import numpy\n",
    "import sympy\n",
    "from sympy.solvers import solve\n",
    "from sympy import diff\n",
    "from time import sleep\n",
    "from progressbar import progressbar\n",
    "from math import e as euler\n",
    "\n",
    "MAX_ITERATION = 1000\n",
    "MAX_ITERATION_QUASE_NEWTON = 5000\n",
    "MAX_ITERATIONITERATION_DICOTOMICA = 5000"
   ]
  },
  {
   "cell_type": "code",
   "execution_count": 2,
   "id": "02db2337",
   "metadata": {},
   "outputs": [],
   "source": [
    "def function(x, f):\n",
    "    if f == 1:\n",
    "        return 1/2*(pow(x[0], 2) + (pow(x[1], 2)/3))\n",
    "    if f == 2:\n",
    "        a = pow(euler, x[0]*x[1]*x[2]*x[3]*x[4])\n",
    "        return a"
   ]
  },
  {
   "cell_type": "code",
   "execution_count": 3,
   "id": "7cc5388e",
   "metadata": {},
   "outputs": [],
   "source": [
    "def grad_function(x, f, c):\n",
    "    if f == 1:\n",
    "        return [x[0] + 2*c*(x[0] + x[1] - 1), (x[1]/3) + 2*c*(x[0] + x[1] - 1)]\n",
    "    if f == 2:\n",
    "        k = pow(euler, x[0]*x[1]*x[2]*x[3]*x[4])\n",
    "        j = x[0]**2 + x[1]**2 + x[2]**2 + x[3]**2 + x[4]**2 - 10\n",
    "        l = x[1]*x[2] - (5*x[3]*x[4])\n",
    "        \n",
    "        g = [(x[1]*x[2]*x[3]*x[4]*k) + (4*c*x[0]*j) + (3*c*x[0]**2),\n",
    "             (x[0]*x[2]*x[3]*x[4]*k) + (4*c*x[1]*j) + (3*c*x[1]**2) + (2 *c*x[2]*l),\n",
    "             (x[0]*x[1]*x[3]*x[4]*k) + (4*c*x[2]*j)                 + (2 *c*x[1]*l),\n",
    "             (x[0]*x[1]*x[2]*x[4]*k) + (4*c*x[3]*j)                 - (10*c*x[4]*l),\n",
    "             (x[0]*x[1]*x[2]*x[3]*k) + (4*c*x[4]*j)                 - (10*c*x[3]*l)]\n",
    "        return g"
   ]
  },
  {
   "cell_type": "code",
   "execution_count": 4,
   "id": "d3554ca3",
   "metadata": {},
   "outputs": [],
   "source": [
    "#Passo 4\n",
    "def function_phi(x, f, c):\n",
    "    if f == 1:\n",
    "        c_p = c * pow((x[0] + x[1] - 1), 2)\n",
    "        phi = function(x, f) + c_p\n",
    "        return phi\n",
    "    if f == 2:\n",
    "        c_p = pow(x[0]**2 + x[1]**2 + x[2]**2 + x[3]**2 + x[4]**2 - 10, 2)\n",
    "        c_p += pow(x[1]*x[2] - 5*x[3]*x[4],2)\n",
    "        c_p += pow(pow(x[0], 3) + pow(x[1], 3) + 1, 2)\n",
    "        c_p = c_p * c\n",
    "        phi = function(x, f) + c_p\n",
    "        return phi"
   ]
  },
  {
   "cell_type": "code",
   "execution_count": 5,
   "id": "799b0acb",
   "metadata": {},
   "outputs": [],
   "source": [
    "def busca_dicotomica(a_min, a_max, e, f, x_i, d_i, c):\n",
    "    for k in range(MAX_ITERATIONITERATION_DICOTOMICA):\n",
    "        if abs(a_max/a_min) < 1 + e*10 and k > 5:\n",
    "                break\n",
    "                \n",
    "        lambda_k = ((a_min+a_max)/2)-e\n",
    "        lambda_x = [x_i[j] + d_i[j] * lambda_k for j in range(len(x_i))]\n",
    "        f_lambda = function_phi(lambda_x, f, c)\n",
    "        \n",
    "        mi_k = ((a_min+a_max)/2)+e\n",
    "        mi_x = [x_i[j] + d_i[j] * mi_k for j in range(len(x_i))]\n",
    "        f_mi = function_phi(mi_x, f, c)\n",
    "            \n",
    "        if f_lambda < f_mi:\n",
    "            a_max = mi_k\n",
    "        else:\n",
    "            a_min = lambda_k\n",
    "    return (a_min+a_max)/2"
   ]
  },
  {
   "cell_type": "code",
   "execution_count": 6,
   "id": "ed092fc9",
   "metadata": {},
   "outputs": [],
   "source": [
    "def DFP(input_D_i, input_s_i, input_y_i):\n",
    "    s_i = numpy.array([[i] for i in input_s_i])\n",
    "    y_i = numpy.array([[i] for i in input_y_i])\n",
    "    D_i = numpy.array(input_D_i)\n",
    "    p1 = numpy.true_divide(s_i.dot(s_i.transpose()), s_i.transpose().dot(y_i))\n",
    "    div_p2 = y_i.transpose().dot(D_i).dot(y_i)\n",
    "    nom_p2 = D_i.dot(y_i).dot(y_i.transpose()).dot(D_i)\n",
    "    p2 = numpy.true_divide(nom_p2, div_p2)\n",
    "    return D_i + p1 - p2"
   ]
  },
  {
   "cell_type": "code",
   "execution_count": 7,
   "id": "64e7683e",
   "metadata": {},
   "outputs": [],
   "source": [
    "def metodo_quase_newton(x_i, e, f, c):\n",
    "    #Passo 3\n",
    "    D_i = numpy.identity(len(x_i))\n",
    "    for i in range(MAX_ITERATION_QUASE_NEWTON):\n",
    "        \n",
    "        #Passo 1\n",
    "        gradiente = grad_function(x_i, f, c)\n",
    "        #print(f\"gradiente = {gradiente}\")\n",
    "        \n",
    "        #Passo 4\n",
    "        d_i = -D_i.dot(gradiente)\n",
    "        #print(f\"d_i = {d_i}\")\n",
    "        \n",
    "        #Passo 5\n",
    "        alpha = busca_dicotomica(-1, 1, e/100, f, x_i, d_i, c)\n",
    "        #print(f\"alpha = {alpha}\")\n",
    "\n",
    "        #Passo 6\n",
    "        antigo_x_i = x_i\n",
    "        x_i = [x_i[k] + alpha*d_i[k] for k in range(len(x_i))]\n",
    "        #print(f\"i = {i}, x_i = {x_i}, alpha = {alpha}, d_i = {d_i}\")\n",
    "        \n",
    "        antigo_gradiente = gradiente\n",
    "        gradiente = grad_function(x_i, f, c)\n",
    "        #print(f\"novo_gradiente = {gradiente}\")\n",
    "        \n",
    "        #Passo 7\n",
    "        convergiu = True\n",
    "        for k in range(len(x_i)):\n",
    "            if abs(antigo_x_i[k] - x_i[k]) > e:\n",
    "                convergiu = False\n",
    "        if convergiu:\n",
    "            break\n",
    "            \n",
    "        #Passo 8\n",
    "        s_i = [x_i[k] - antigo_x_i[k] for k in range(len(x_i))]\n",
    "        y_i = [gradiente[k] - antigo_gradiente[k] for k in range(len(gradiente))]\n",
    "        #print(f\"s_i = {s_i}\")\n",
    "        #print(f\"y_i = {y_i}\")\n",
    "        \n",
    "        #Passo 9\n",
    "        np_s_i = numpy.array(s_i)\n",
    "        np_y_i = numpy.array(y_i)\n",
    "        result = numpy.dot(np_s_i.transpose(), np_y_i)\n",
    "        \n",
    "        #Passo 9\n",
    "        if result < 0:\n",
    "            D_i = numpy.identity(len(x_i))\n",
    "        \n",
    "        #Passo 10\n",
    "        if result >= 0:\n",
    "            D_i = DFP(D_i, np_s_i, np_y_i)\n",
    "        \n",
    "        #print(f\"D_i+1 = {D_i}\")\n",
    "        #print(f\"result = {result}\") \n",
    "    #print(x_i)\n",
    "    return x_i"
   ]
  },
  {
   "cell_type": "code",
   "execution_count": 8,
   "id": "90561181",
   "metadata": {},
   "outputs": [],
   "source": [
    "def metodo_das_penalidades(x_i, e, f, c_0, inc_c_0):\n",
    "    for i in progressbar(range(MAX_ITERATION)):\n",
    "        #Passo 5\n",
    "        antigo_x_i = x_i\n",
    "        x_i = metodo_quase_newton(x_i, e, f, c_0)\n",
    "            \n",
    "        #Passo 6 \n",
    "        convergiu = True\n",
    "        for k in range(len(x_i)):\n",
    "            if abs(antigo_x_i[k] - x_i[k]) > e/100:\n",
    "                convergiu = False\n",
    "        if convergiu:\n",
    "            print(f\"Numero de iterações foi o suficiente para convergir\")\n",
    "            break\n",
    "            \n",
    "        #Passo 7\n",
    "        c_0 += inc_c_0\n",
    "    return x_i"
   ]
  },
  {
   "cell_type": "code",
   "execution_count": 9,
   "id": "4be66878",
   "metadata": {
    "scrolled": false
   },
   "outputs": [
    {
     "name": "stderr",
     "output_type": "stream",
     "text": [
      " 42% (421 of 1000) |########             | Elapsed Time: 0:00:13 ETA:   0:00:21C:\\Users\\chris\\AppData\\Local\\Temp/ipykernel_13736/589574807.py:5: RuntimeWarning: overflow encountered in double_scalars\n",
      "  a = pow(euler, x[0]*x[1]*x[2]*x[3]*x[4])\n",
      "100% (1000 of 1000) |####################| Elapsed Time: 0:01:03 Time:  0:01:03\n"
     ]
    },
    {
     "name": "stdout",
     "output_type": "stream",
     "text": [
      "\n",
      "Função 1 - Valor cálculado pelo método das penalidades : [-1.7223631207307528, 1.6022992368407258, 1.968509918324563, -0.7478527661706897, -0.7478527661706917]\n"
     ]
    }
   ],
   "source": [
    "mqn2 = metodo_das_penalidades([-2, 2, 2, -1 , -1], 0.01, 2, 0.015, 0.0001)\n",
    "print(f\"\\nFunção 1 - Valor cálculado pelo método das penalidades : {mqn2}\")"
   ]
  },
  {
   "cell_type": "code",
   "execution_count": 10,
   "id": "fc6e1fe7",
   "metadata": {},
   "outputs": [
    {
     "name": "stderr",
     "output_type": "stream",
     "text": [
      "  2% (24 of 1000) |                      | Elapsed Time: 0:00:00 ETA:   0:00:28"
     ]
    },
    {
     "name": "stdout",
     "output_type": "stream",
     "text": [
      "Numero de iterações foi o suficiente para convergir\n",
      "\n",
      "Função 1 - Valor cálculado pelo método das penalidades : [0.2500971790593921, 0.749854739430764]\n",
      "Valor otimizado : {x: 0.0, y: 0.0}\n"
     ]
    }
   ],
   "source": [
    "x, y = sympy.symbols(\"x y\")\n",
    "f1 = 1/2*(x*x + ((y*y)/3))\n",
    "\n",
    "mqn1 = metodo_das_penalidades([0, 0], 0.0001, 1, 100, 100)\n",
    "sp1 = solve([f1.diff(x), f1.diff(y)], [x, y])\n",
    "print(f\"\\nFunção 1 - Valor cálculado pelo método das penalidades : {mqn1}\\nValor otimizado : {sp1}\")"
   ]
  },
  {
   "cell_type": "code",
   "execution_count": null,
   "id": "d1e342a0",
   "metadata": {},
   "outputs": [],
   "source": []
  }
 ],
 "metadata": {
  "kernelspec": {
   "display_name": "Python 3 (ipykernel)",
   "language": "python",
   "name": "python3"
  },
  "language_info": {
   "codemirror_mode": {
    "name": "ipython",
    "version": 3
   },
   "file_extension": ".py",
   "mimetype": "text/x-python",
   "name": "python",
   "nbconvert_exporter": "python",
   "pygments_lexer": "ipython3",
   "version": "3.9.7"
  }
 },
 "nbformat": 4,
 "nbformat_minor": 5
}
